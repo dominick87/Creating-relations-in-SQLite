{
 "cells": [
  {
   "cell_type": "markdown",
   "metadata": {},
   "source": [
    "### Introduction to the data"
   ]
  },
  {
   "cell_type": "code",
   "execution_count": 1,
   "metadata": {},
   "outputs": [
    {
     "name": "stdout",
     "output_type": "stream",
     "text": [
      "(0, 'Year', 'INTEGER', 0, None, 0)\n",
      "(1, 'Category', 'TEXT', 0, None, 0)\n",
      "(2, 'Nominee', 'TEXT', 0, None, 0)\n",
      "(3, 'Won', 'INTEGER', 0, None, 0)\n",
      "(4, 'Movie', 'TEXT', 0, None, 0)\n",
      "(5, 'Character', 'TEXT', 0, None, 0)\n",
      "(2010, 'Actor -- Leading Role', 'Javier Bardem', 0, 'Biutiful', 'Uxbal')\n",
      "(2010, 'Actor -- Leading Role', 'Jeff Bridges', 0, 'True Grit', 'Rooster Cogburn')\n",
      "(2010, 'Actor -- Leading Role', 'Jesse Eisenberg', 0, 'The Social Network', 'Mark Zuckerberg')\n",
      "(2010, 'Actor -- Leading Role', 'Colin Firth', 1, \"The King's Speech\", 'King George VI')\n",
      "(2010, 'Actor -- Leading Role', 'James Franco', 0, '127 Hours', 'Aron Ralston')\n",
      "(2010, 'Actor -- Supporting Role', 'Christian Bale', 1, 'The Fighter', 'Dicky Eklund')\n",
      "(2010, 'Actor -- Supporting Role', 'John Hawkes', 0, \"Winter's Bone\", 'Teardrop')\n",
      "(2010, 'Actor -- Supporting Role', 'Jeremy Renner', 0, 'The Town', 'James Coughlin')\n",
      "(2010, 'Actor -- Supporting Role', 'Mark Ruffalo', 0, 'The Kids Are All Right', 'Paul')\n",
      "(2010, 'Actor -- Supporting Role', 'Geoffrey Rush', 0, \"The King's Speech\", 'Lionel Logue')\n"
     ]
    }
   ],
   "source": [
    "import sqlite3 as sql\n",
    "conn = sql.connect(\"nominations.db\")\n",
    "\n",
    "show_schema = \"pragma table_info('nominations')\"\n",
    "schema = conn.execute(show_schema).fetchall()\n",
    "#print(schema)\n",
    "\n",
    "for item in schema:\n",
    "    print(item)\n",
    "\n",
    "q1 = \"select * from nominations limit 10\"\n",
    "first_ten = conn.execute(q1).fetchall()\n",
    "#print(first_ten)\n",
    "\n",
    "for item in first_ten:\n",
    "    print(item)"
   ]
  },
  {
   "cell_type": "markdown",
   "metadata": {},
   "source": [
    "### Creating the ceremonies table"
   ]
  },
  {
   "cell_type": "code",
   "execution_count": 2,
   "metadata": {},
   "outputs": [
    {
     "name": "stdout",
     "output_type": "stream",
     "text": [
      "[(1, 2010, 'Steve Martin'), (2, 2009, 'Hugh Jackman'), (3, 2008, 'Jon Stewart'), (4, 2007, 'Ellen DeGeneres'), (5, 2006, 'Jon Stewart'), (6, 2005, 'Chris Rock'), (7, 2004, 'Billy Crystal'), (8, 2003, 'Steve Martin'), (9, 2002, 'Whoopi Goldberg'), (10, 2001, 'Steve Martin')]\n"
     ]
    },
    {
     "data": {
      "text/plain": [
       "[(0, 'Year', 'INTEGER', 0, None, 0),\n",
       " (1, 'Category', 'TEXT', 0, None, 0),\n",
       " (2, 'Nominee', 'TEXT', 0, None, 0),\n",
       " (3, 'Won', 'INTEGER', 0, None, 0),\n",
       " (4, 'Movie', 'TEXT', 0, None, 0),\n",
       " (5, 'Character', 'TEXT', 0, None, 0)]"
      ]
     },
     "execution_count": 2,
     "metadata": {},
     "output_type": "execute_result"
    }
   ],
   "source": [
    "create_table = '''\n",
    "create table ceremonies (id integer primary key, Year integer, Host text)\n",
    "'''\n",
    "conn.execute(create_table)\n",
    "\n",
    "years_hosts = [(2010, \"Steve Martin\"),\n",
    "               (2009, \"Hugh Jackman\"),\n",
    "               (2008, \"Jon Stewart\"),\n",
    "               (2007, \"Ellen DeGeneres\"),\n",
    "               (2006, \"Jon Stewart\"),\n",
    "               (2005, \"Chris Rock\"),\n",
    "               (2004, \"Billy Crystal\"),\n",
    "               (2003, \"Steve Martin\"),\n",
    "               (2002, \"Whoopi Goldberg\"),\n",
    "               (2001, \"Steve Martin\"),\n",
    "               (2000, \"Billy Crystal\")]\n",
    "\n",
    "# insert into table using executemany plus placeholder (?)\n",
    "insert = '''\n",
    "insert into ceremonies (Year, Host) values (?,?)\n",
    "'''\n",
    "conn.executemany(insert, years_hosts)\n",
    "q2 = \"select * from ceremonies\"\n",
    "print(conn.execute(q2).fetchmany(10))\n",
    "\n",
    "table_name = \"ceremonies\"\n",
    "conn.execute(show_schema).fetchall()"
   ]
  },
  {
   "cell_type": "markdown",
   "metadata": {},
   "source": [
    "### Foreign Key constraint\n",
    "\n",
    "Since we'll be creating relations using foreign keys, we need to turn on foreign key constraints."
   ]
  },
  {
   "cell_type": "code",
   "execution_count": 3,
   "metadata": {},
   "outputs": [
    {
     "data": {
      "text/plain": [
       "<sqlite3.Cursor at 0x1d719913500>"
      ]
     },
     "execution_count": 3,
     "metadata": {},
     "output_type": "execute_result"
    }
   ],
   "source": [
    "enable_fk = \"PRAGMA foreign_keys = ON;\"\n",
    "conn.execute(enable_fk)"
   ]
  },
  {
   "cell_type": "markdown",
   "metadata": {},
   "source": [
    "### Setting up the relations"
   ]
  },
  {
   "cell_type": "code",
   "execution_count": 4,
   "metadata": {},
   "outputs": [
    {
     "data": {
      "text/plain": [
       "[(1, 'Actor -- Leading Role', 'Javier Bardem', 'Biutiful', 'Uxbal', 0, 1),\n",
       " (2,\n",
       "  'Actor -- Leading Role',\n",
       "  'Jeff Bridges',\n",
       "  'True Grit',\n",
       "  'Rooster Cogburn',\n",
       "  0,\n",
       "  1),\n",
       " (3,\n",
       "  'Actor -- Leading Role',\n",
       "  'Jesse Eisenberg',\n",
       "  'The Social Network',\n",
       "  'Mark Zuckerberg',\n",
       "  0,\n",
       "  1),\n",
       " (4,\n",
       "  'Actor -- Leading Role',\n",
       "  'Colin Firth',\n",
       "  \"The King's Speech\",\n",
       "  'King George VI',\n",
       "  1,\n",
       "  1),\n",
       " (5,\n",
       "  'Actor -- Leading Role',\n",
       "  'James Franco',\n",
       "  '127 Hours',\n",
       "  'Aron Ralston',\n",
       "  0,\n",
       "  1)]"
      ]
     },
     "execution_count": 4,
     "metadata": {},
     "output_type": "execute_result"
    }
   ],
   "source": [
    "# creating the table\n",
    "create_nom_two = '''\n",
    "create table nominations_two (\n",
    "    id integer primary key, \n",
    "    category text, nominee text, movie text, \n",
    "    character text, won integer, ceremony_id integer,\n",
    "    foreign key(ceremony_id) references ceremonies(id))\n",
    "'''\n",
    "conn.execute(create_nom_two)\n",
    "\n",
    "# extracting the values\n",
    "select_all_nom = '''\n",
    "select n.category, n.nominee, n.movie, \n",
    "n.character, n.won, ceremonies.id\n",
    "from nominations as n\n",
    "inner join ceremonies on n.year == ceremonies.year ;\n",
    "'''\n",
    "joined_nominations = conn.execute(select_all_nom).fetchall()\n",
    "\n",
    "# populating the table\n",
    "insert_nominations_two = '''\n",
    "insert into nominations_two \n",
    "  (category, nominee, movie, character, won, ceremony_id) \n",
    "  values (?,?,?,?,?,?)\n",
    "'''\n",
    "conn.executemany(insert_nominations_two, joined_nominations)\n",
    "\n",
    "verify = \"select * from nominations_two limit 5\"\n",
    "conn.execute(verify).fetchall()"
   ]
  },
  {
   "cell_type": "markdown",
   "metadata": {},
   "source": [
    "### Deleting and Renaming tables"
   ]
  },
  {
   "cell_type": "code",
   "execution_count": 5,
   "metadata": {},
   "outputs": [
    {
     "data": {
      "text/plain": [
       "<sqlite3.Cursor at 0x1d719913650>"
      ]
     },
     "execution_count": 5,
     "metadata": {},
     "output_type": "execute_result"
    }
   ],
   "source": [
    "drop_table = \"drop table nominations\"\n",
    "conn.execute(drop_table)\n",
    "\n",
    "alter_table = \"alter table nominations_two rename to nominations\"\n",
    "conn.execute(alter_table)\n"
   ]
  },
  {
   "cell_type": "markdown",
   "metadata": {},
   "source": [
    "### Creating a join table"
   ]
  },
  {
   "cell_type": "code",
   "execution_count": 6,
   "metadata": {},
   "outputs": [
    {
     "name": "stdout",
     "output_type": "stream",
     "text": [
      "[(0, 'id', 'integer', 0, None, 1), (1, 'movie', 'text', 0, None, 0)]\n",
      "[(0, 'id', 'integer', 0, None, 1), (1, 'actor', 'text', 0, None, 0)]\n",
      "[(0, 'id', 'integer', 0, None, 1), (1, 'movie_id', 'integer', 0, None, 0), (2, 'actor_id', 'integer', 0, None, 0)]\n"
     ]
    }
   ],
   "source": [
    "create_movies = \"create table movies (id integer primary key, movie text)\"\n",
    "create_actors = \"create table actors (id integer primary key, actor text)\"\n",
    "create_movies_actors = \"create table movies_actors (id integer primary key, movie_id integer references movies(id), actor_id integer references actors(id))\"\n",
    "\n",
    "conn.execute(create_movies)\n",
    "conn.execute(create_actors)\n",
    "conn.execute(create_movies_actors)\n",
    "\n",
    "print(conn.execute(\"pragma table_info(movies)\").fetchall())\n",
    "print(conn.execute(\"pragma table_info(actors)\").fetchall())\n",
    "print(conn.execute(\"pragma table_info(movies_actors)\").fetchall())"
   ]
  },
  {
   "cell_type": "markdown",
   "metadata": {},
   "source": [
    "### Populating the movies and actors tables"
   ]
  },
  {
   "cell_type": "code",
   "execution_count": 7,
   "metadata": {},
   "outputs": [
    {
     "data": {
      "text/plain": [
       "<sqlite3.Cursor at 0x1d719913810>"
      ]
     },
     "execution_count": 7,
     "metadata": {},
     "output_type": "execute_result"
    }
   ],
   "source": [
    "insert_movies = \"insert into movies (movie) select distinct movie from nominations;\"\n",
    "conn.execute(insert_movies)\n",
    "\n",
    "insert_actors = \"insert into actors (actor) select distinct nominee from nominations;\"\n",
    "conn.execute(insert_actors)"
   ]
  },
  {
   "cell_type": "code",
   "execution_count": 8,
   "metadata": {},
   "outputs": [
    {
     "name": "stdout",
     "output_type": "stream",
     "text": [
      "[(1, 'Biutiful'), (2, 'True Grit'), (3, 'The Social Network'), (4, \"The King's Speech\"), (5, '127 Hours')]\n",
      "[(1, 'Javier Bardem'), (2, 'Jeff Bridges'), (3, 'Jesse Eisenberg'), (4, 'Colin Firth'), (5, 'James Franco')]\n"
     ]
    }
   ],
   "source": [
    "print(conn.execute(\"select * from movies limit 5;\").fetchall())\n",
    "print(conn.execute(\"select * from actors limit 5;\").fetchall())"
   ]
  },
  {
   "cell_type": "markdown",
   "metadata": {},
   "source": [
    "### Populating a join table"
   ]
  },
  {
   "cell_type": "markdown",
   "metadata": {},
   "source": [
    "We can populate the join table using a inner join. In the query below we'd get a join table with movies that have the same order as in `nominations` table. "
   ]
  },
  {
   "cell_type": "code",
   "execution_count": 26,
   "metadata": {},
   "outputs": [
    {
     "data": {
      "text/plain": [
       "[(1, 1, 'Biutiful', 'Javier Bardem'),\n",
       " (2, 19, 'True Grit', 'Hailee Steinfeld'),\n",
       " (2, 2, 'True Grit', 'Jeff Bridges'),\n",
       " (3, 3, 'The Social Network', 'Jesse Eisenberg'),\n",
       " (4, 4, \"The King's Speech\", 'Colin Firth'),\n",
       " (4, 10, \"The King's Speech\", 'Geoffrey Rush'),\n",
       " (4, 17, \"The King's Speech\", 'Helena Bonham Carter'),\n",
       " (5, 5, '127 Hours', 'James Franco'),\n",
       " (6, 16, 'The Fighter', 'Amy Adams'),\n",
       " (6, 6, 'The Fighter', 'Christian Bale')]"
      ]
     },
     "execution_count": 26,
     "metadata": {},
     "output_type": "execute_result"
    }
   ],
   "source": [
    "inner_join = '''\n",
    "select movies.id, actors.id, n.movie, n.nominee from movies \n",
    "inner join nominations n on movies.movie == n.movie\n",
    "inner join actors on n.nominee = actors.actor\n",
    "limit 10\n",
    "'''\n",
    "conn.execute(inner_join).fetchall()"
   ]
  },
  {
   "cell_type": "markdown",
   "metadata": {},
   "source": [
    "We can also populate the join table using the `executemany` method plus using placeholders. For the sake of the project, we'll use this second solution. Both are valid. "
   ]
  },
  {
   "cell_type": "code",
   "execution_count": 28,
   "metadata": {},
   "outputs": [
    {
     "data": {
      "text/plain": [
       "[(1, 1, 1),\n",
       " (2, 2, 2),\n",
       " (3, 3, 3),\n",
       " (4, 4, 4),\n",
       " (5, 5, 5),\n",
       " (6, 6, 6),\n",
       " (7, 7, 7),\n",
       " (8, 8, 8),\n",
       " (9, 9, 9),\n",
       " (10, 4, 10)]"
      ]
     },
     "execution_count": 28,
     "metadata": {},
     "output_type": "execute_result"
    }
   ],
   "source": [
    "placeholder_query = \"select movie,nominee from nominations\"\n",
    "placeholder = conn.execute(placeholder_query).fetchall()\n",
    "\n",
    "insert_query = '''\n",
    "insert into movies_actors (movie_id, actor_id) values ((select id from movies where movie == ?),\n",
    "                                                        (select id from actors where actor == ?));\n",
    "'''\n",
    "conn.executemany(insert_query, placeholder)\n",
    "\n",
    "conn.execute(\"select * from movies_actors limit 10;\").fetchall()"
   ]
  },
  {
   "cell_type": "code",
   "execution_count": null,
   "metadata": {
    "collapsed": true
   },
   "outputs": [],
   "source": [
    "# finally release the resources\n",
    "conn.close()"
   ]
  }
 ],
 "metadata": {
  "kernelspec": {
   "display_name": "Python 3",
   "language": "python",
   "name": "python3"
  },
  "language_info": {
   "codemirror_mode": {
    "name": "ipython",
    "version": 3
   },
   "file_extension": ".py",
   "mimetype": "text/x-python",
   "name": "python",
   "nbconvert_exporter": "python",
   "pygments_lexer": "ipython3",
   "version": "3.6.1"
  }
 },
 "nbformat": 4,
 "nbformat_minor": 1
}
